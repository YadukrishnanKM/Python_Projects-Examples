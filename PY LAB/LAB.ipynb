{
 "cells": [
  {
   "cell_type": "markdown",
   "metadata": {},
   "source": [
    "1a) Develop a program to read the student details like Name, USN, and marks in three subjects. Display the\n",
    "student details, total marks, and percentage with suitable messages.\n"
   ]
  },
  {
   "cell_type": "code",
   "execution_count": 1,
   "metadata": {},
   "outputs": [
    {
     "name": "stdout",
     "output_type": "stream",
     "text": [
      "name =  abc\n",
      "usn =  1RL22EC001\n",
      "total =  180\n",
      "percentage =  60.0\n"
     ]
    }
   ],
   "source": [
    "name = input(\"enter your name: \")\n",
    "usn = input(\"enter USN: \")\n",
    "marks1 = int(input(\"enter subject1 marks: \"))\n",
    "marks2 = int(input(\"enter subject2 marks: \"))\n",
    "marks3 = int(input(\"enter subject3 marks: \"))\n",
    "total = marks1 + marks2 + marks3\n",
    "totmarks = 300\n",
    "percentage = (total/totmarks)*100\n",
    "print(\"name = \",name)\n",
    "print(\"usn = \",usn)\n",
    "print(\"total = \",total)\n",
    "print(\"percentage = \",percentage)\n"
   ]
  },
  {
   "cell_type": "markdown",
   "metadata": {},
   "source": [
    "1b) Develop a program to read the name and Year of birth of a person. Display whether the person is a\n",
    "senior citizen or not"
   ]
  },
  {
   "cell_type": "code",
   "execution_count": 2,
   "metadata": {},
   "outputs": [
    {
     "name": "stdout",
     "output_type": "stream",
     "text": [
      "xcv  is senior citizen\n"
     ]
    }
   ],
   "source": [
    "name = input(\"enter your name: \")\n",
    "year = int(input(\"enter born year: \"))\n",
    "if((2023 - year)>60):\n",
    " print(name,\" is senior citizen\")\n",
    "else:\n",
    " print(name, \" not a senior citizen\")"
   ]
  },
  {
   "cell_type": "markdown",
   "metadata": {},
   "source": [
    "2a) Develop a program to generate Fibonacci sequence of length (N). Read N from the console.\n"
   ]
  },
  {
   "cell_type": "code",
   "execution_count": 7,
   "metadata": {},
   "outputs": [
    {
     "name": "stdout",
     "output_type": "stream",
     "text": [
      "0\n",
      "1\n",
      "1\n",
      "2\n",
      "3\n",
      "5\n",
      "8\n"
     ]
    }
   ],
   "source": [
    "n = int(input(\"enter the length of Fibonacci Sequence\"))\n",
    "n1 = 0\n",
    "n2 = 1\n",
    "count = 2\n",
    "if n<0:\n",
    "    print(\"enter only positive values\")\n",
    "elif n == 1:\n",
    "    print(n1)\n",
    "else:\n",
    "    print(n1)\n",
    "    print(n2)\n",
    "    while(count<n):\n",
    "        n3 = n1 + n2\n",
    "        print(n3)\n",
    "        n1 = n2\n",
    "        n2 = n3\n",
    "        count = count + 1\n"
   ]
  },
  {
   "cell_type": "markdown",
   "metadata": {},
   "source": [
    "2b) Write a function to calculate factorial of a number. Develop a program to compute binomial coefficient\n",
    "(Given N and R).\n",
    "nCr = n! / (r! (n - r)!"
   ]
  },
  {
   "cell_type": "code",
   "execution_count": 8,
   "metadata": {},
   "outputs": [
    {
     "name": "stdout",
     "output_type": "stream",
     "text": [
      "Answer =  21\n"
     ]
    }
   ],
   "source": [
    "def fact(num):\n",
    " factorial = 1\n",
    " if num < 0:\n",
    "    print(\"Sorry, factorial does not exist for negative numbers\")\n",
    " elif num == 0:\n",
    "    print(\"The factorial of 0 is 1\")\n",
    " else:\n",
    "    for i in range(1,num + 1):\n",
    "        factorial = factorial*i\n",
    "    return factorial\n",
    "n = int(input(\"enter the value of n: \"))\n",
    "r = int(input(\"enter the value of r: \"))\n",
    "if n>r:\n",
    "    print(\"Answer = \",int(fact(n)/((fact(r)*fact(n-r)))))\n",
    "else:\n",
    "    print(\"value of n should be greater than r\")"
   ]
  },
  {
   "cell_type": "markdown",
   "metadata": {},
   "source": [
    "3)Read N numbers from the console and create a list. Develop a program to print mean, variance and\n",
    "standard deviation with suitable messages."
   ]
  },
  {
   "cell_type": "code",
   "execution_count": 9,
   "metadata": {},
   "outputs": [
    {
     "name": "stdout",
     "output_type": "stream",
     "text": [
      "[1]\n",
      "[1, 2]\n",
      "[1, 2, 3]\n",
      "[1, 2, 3, 4]\n",
      "[1, 2, 3, 4, 5]\n",
      "elements in a list are:  [1, 2, 3, 4, 5]\n",
      "sum =  15\n",
      "mean =  3.0\n",
      "variance =  2.0\n",
      "standard deviation =  1.4142135623730951\n"
     ]
    }
   ],
   "source": [
    "import math\n",
    "ln = []\n",
    "n = int(input(\"enter the number of values to be added into a list: \"))\n",
    "sum = 0\n",
    "sumstd = 0\n",
    "for i in range(n):\n",
    "    v = int(input(\"enter the number: \"))\n",
    "    ln.append(v)\n",
    "    print(ln)\n",
    "print(\"elements in a list are: \",ln)\n",
    "for i in range(n):\n",
    "    sum = sum + ln[i]\n",
    "print(\"sum = \",sum)\n",
    "mean = sum / n\n",
    "print(\"mean = \",mean)\n",
    "for i in range(n):\n",
    "    sumstd = sumstd + math.pow((ln[i]-mean),2)\n",
    "var = sumstd/n\n",
    "std = math.sqrt(var)\n",
    "print(\"variance = \",var)\n",
    "print(\"standard deviation = \",std)"
   ]
  },
  {
   "cell_type": "markdown",
   "metadata": {},
   "source": [
    "4. Read a multi-digit number from the console. Develop a program to print the frequency of each digit with\n",
    "suitable message."
   ]
  },
  {
   "cell_type": "code",
   "execution_count": 11,
   "metadata": {},
   "outputs": [
    {
     "name": "stdout",
     "output_type": "stream",
     "text": [
      "21123\n",
      "2 is occuring  1  time\n",
      "1 is occuring  1  time\n",
      "1 is occuring  2  time\n",
      "2 is occuring  2  time\n",
      "3 is occuring  1  time\n",
      "{'2': 2, '1': 2, '3': 1}\n"
     ]
    }
   ],
   "source": [
    "str = ''\n",
    "n = int(input(\"enter the number length: \"))\n",
    "for i in range(n):\n",
    "    a = input(\"enter the number: \")\n",
    "    str = str + a\n",
    "print(str)\n",
    "count = {}\n",
    "for i in str:\n",
    "    count.setdefault(i,0)\n",
    "    count[i] = count[i] + 1\n",
    "    print(i , \"is occuring \" , count[i] , \" time\")\n",
    "print(count)\n"
   ]
  },
  {
   "cell_type": "code",
   "execution_count": 13,
   "metadata": {},
   "outputs": [
    {
     "name": "stdout",
     "output_type": "stream",
     "text": [
      "{'1': 1, '2': 3, '3': 1, '4': 1, '5': 1, '6': 1, '7': 1, '8': 1, '9': 1}\n"
     ]
    }
   ],
   "source": [
    "message = input(\"enter the multidigit number: \")\n",
    "count = {}\n",
    "for i in message:\n",
    "    count.setdefault(i,0)\n",
    "    count[i] = count[i] + 1\n",
    "print(count)"
   ]
  },
  {
   "cell_type": "markdown",
   "metadata": {},
   "source": [
    "5. Develop a program to print 10 most frequently appearing words in a text file. [Hint: Use dictionary with\n",
    "distinct words and their frequency of occurences. Sort the dictionary in the reverse order of frequency\n",
    "and display slice of first 10 items.]"
   ]
  },
  {
   "cell_type": "code",
   "execution_count": 1,
   "metadata": {},
   "outputs": [
    {
     "name": "stdout",
     "output_type": "stream",
     "text": [
      "value stored in a =  [('and', 14), ('have', 9), ('to', 8), ('that', 5), ('of', 5), ('computers', 5), ('the', 5), ('an', 4), ('can', 4), ('in', 4), ('they', 4), ('Computers', 3), ('', 3), ('They', 3), ('information', 3), ('also', 3), ('their', 3), ('perform', 2), ('including', 2), ('become', 2), ('our', 2), ('allowing', 2), ('us', 2), ('communicate,', 2), ('were', 2), ('over', 2), ('more', 2), ('many', 2), ('way', 2), ('we', 2), ('made', 2), ('it', 2), ('possible', 2), ('drawbacks.', 2), ('be', 2), ('use', 2), ('strain', 2), ('A', 1), ('computer', 1), ('is', 1), ('electronic', 1), ('device', 1), ('a', 1), ('variety', 1), ('tasks,', 1), ('storing,', 1), ('retrieving,', 1), ('processing', 1), ('data.', 1), ('essential', 1), ('part', 1), ('daily', 1), ('lives,', 1), ('work,', 1), ('entertain', 1), ('ourselves', 1), ('ways', 1), ('once', 1), ('unimaginable.', 1), ('The', 1), ('first', 1), ('large', 1), ('expensive,', 1), ('but', 1), ('time', 1), ('smaller,', 1), ('powerful,', 1), ('affordable.', 1), ('Today,', 1), ('come', 1), ('different', 1), ('forms,', 1), ('desktops,', 1), ('laptops,', 1), ('tablets,', 1), ('smartphones.', 1), ('revolutionized', 1), ('live', 1), ('work.', 1), ('store', 1), ('vast', 1), ('amounts', 1), ('access', 1), ('quickly', 1), ('easily.', 1), ('complex', 1), ('calculations', 1), ('analyses', 1), ('would', 1), ('been', 1), ('impossible', 1), ('by', 1), ('hand.', 1), ('changed', 1), ('send', 1), ('messages', 1), ('share', 1), ('with', 1), ('people', 1), ('all', 1), ('world', 1), ('instant.', 1), ('Despite', 1), ('benefits,', 1), ('difficult', 1), ('understand,', 1), ('vulnerable', 1), ('viruses', 1), ('other', 1), ('forms', 1), ('malware.', 1), ('Additionally,', 1), ('constant', 1), ('lead', 1), ('physical', 1), ('problems', 1), ('such', 1), ('as', 1), ('eye', 1), ('repetitive', 1), ('injuries.', 1), ('Overall,', 1), ('are', 1), ('incredibly', 1), ('powerful', 1), ('tool', 1), ('has', 1), ('transformed', 1), ('lives', 1), ('countless', 1), ('ways.', 1), ('While', 1), ('do', 1), ('challenges,', 1), ('benefits', 1), ('provide', 1), ('far', 1), ('outweigh', 1), ('any', 1)]\n",
      "{'and': 14, 'have': 9, 'to': 8, 'that': 5, 'of': 5, 'computers': 5, 'the': 5, 'an': 4, 'can': 4, 'in': 4}\n"
     ]
    }
   ],
   "source": [
    "text = open(\"sample.txt\",\"r\")\n",
    "d = {}\n",
    "for line in text:\n",
    "    line = line.strip()\n",
    "    #print(line)\n",
    "    words = line.split(\" \")\n",
    "    #print(words)\n",
    "    for word in words:\n",
    "        if word in d:\n",
    "            d[word] = d[word] + 1\n",
    "        else:\n",
    "            d[word] = 1\n",
    "a = sorted(d.items(), key=lambda x:x[1], reverse=True)\n",
    "print(\"value stored in a = \",a)\n",
    "#print(\"after slicing\")\n",
    "print(dict(a[:10]))\n"
   ]
  },
  {
   "cell_type": "markdown",
   "metadata": {},
   "source": [
    "6. Develop a program to sort the contents of a text file and write the sorted contents into a separate text\n",
    "file.\n"
   ]
  },
  {
   "cell_type": "code",
   "execution_count": 4,
   "metadata": {},
   "outputs": [
    {
     "name": "stdout",
     "output_type": "stream",
     "text": [
      "['A', 'computer', 'is', 'an', 'electronic', 'device', 'that', 'can', 'perform', 'a', 'variety', 'of', 'tasks,', 'including', 'storing,', 'retrieving,', 'and', 'processing', 'data.', 'Computers', 'have', 'become', 'an', 'essential', 'part', 'of', 'our', 'daily', 'lives,', 'allowing', 'us', 'to', 'work,', 'communicate,', 'and', 'entertain', 'ourselves', 'in', 'ways', 'that', 'were', 'once', 'unimaginable.', 'The', 'first', 'computers', 'were', 'large', 'and', 'expensive,', 'but', 'over', 'time', 'they', 'have', 'become', 'smaller,', 'more', 'powerful,', 'and', 'more', 'affordable.', 'Today,', 'computers', 'come', 'in', 'many', 'different', 'forms,', 'including', 'desktops,', 'laptops,', 'tablets,', 'and', 'smartphones.']\n",
      "[]\n",
      "['Computers', 'have', 'revolutionized', 'the', 'way', 'we', 'live', 'and', 'work.', 'They', 'have', 'made', 'it', 'possible', 'to', 'store', 'vast', 'amounts', 'of', 'information', 'and', 'to', 'access', 'that', 'information', 'quickly', 'and', 'easily.', 'They', 'have', 'also', 'made', 'it', 'possible', 'to', 'perform', 'complex', 'calculations', 'and', 'analyses', 'that', 'would', 'have', 'been', 'impossible', 'by', 'hand.', 'Computers', 'have', 'also', 'changed', 'the', 'way', 'we', 'communicate,', 'allowing', 'us', 'to', 'send', 'messages', 'and', 'share', 'information', 'with', 'people', 'all', 'over', 'the', 'world', 'in', 'an', 'instant.']\n",
      "[]\n",
      "['Despite', 'their', 'many', 'benefits,', 'computers', 'also', 'have', 'their', 'drawbacks.', 'They', 'can', 'be', 'difficult', 'to', 'use', 'and', 'understand,', 'and', 'they', 'can', 'be', 'vulnerable', 'to', 'viruses', 'and', 'other', 'forms', 'of', 'malware.', 'Additionally,', 'the', 'constant', 'use', 'of', 'computers', 'can', 'lead', 'to', 'physical', 'problems', 'such', 'as', 'eye', 'strain', 'and', 'repetitive', 'strain', 'injuries.']\n",
      "[]\n",
      "['Overall,', 'computers', 'are', 'an', 'incredibly', 'powerful', 'tool', 'that', 'has', 'transformed', 'our', 'lives', 'in', 'countless', 'ways.', 'While', 'they', 'do', 'have', 'their', 'challenges,', 'the', 'benefits', 'they', 'provide', 'far', 'outweigh', 'any', 'drawbacks.']\n",
      "----------After sorting---------------\n",
      "['A', 'Additionally,', 'Computers', 'Computers', 'Computers', 'Despite', 'Overall,', 'The', 'They', 'They', 'They', 'Today,', 'While', 'a', 'access', 'affordable.', 'all', 'allowing', 'allowing', 'also', 'also', 'also', 'amounts', 'an', 'an', 'an', 'an', 'analyses', 'and', 'and', 'and', 'and', 'and', 'and', 'and', 'and', 'and', 'and', 'and', 'and', 'and', 'and', 'any', 'are', 'as', 'be', 'be', 'become', 'become', 'been', 'benefits', 'benefits,', 'but', 'by', 'calculations', 'can', 'can', 'can', 'can', 'challenges,', 'changed', 'come', 'communicate,', 'communicate,', 'complex', 'computer', 'computers', 'computers', 'computers', 'computers', 'computers', 'constant', 'countless', 'daily', 'data.', 'desktops,', 'device', 'different', 'difficult', 'do', 'drawbacks.', 'drawbacks.', 'easily.', 'electronic', 'entertain', 'essential', 'expensive,', 'eye', 'far', 'first', 'forms', 'forms,', 'hand.', 'has', 'have', 'have', 'have', 'have', 'have', 'have', 'have', 'have', 'have', 'impossible', 'in', 'in', 'in', 'in', 'including', 'including', 'incredibly', 'information', 'information', 'information', 'injuries.', 'instant.', 'is', 'it', 'it', 'laptops,', 'large', 'lead', 'live', 'lives', 'lives,', 'made', 'made', 'malware.', 'many', 'many', 'messages', 'more', 'more', 'of', 'of', 'of', 'of', 'of', 'once', 'other', 'our', 'our', 'ourselves', 'outweigh', 'over', 'over', 'part', 'people', 'perform', 'perform', 'physical', 'possible', 'possible', 'powerful', 'powerful,', 'problems', 'processing', 'provide', 'quickly', 'repetitive', 'retrieving,', 'revolutionized', 'send', 'share', 'smaller,', 'smartphones.', 'store', 'storing,', 'strain', 'strain', 'such', 'tablets,', 'tasks,', 'that', 'that', 'that', 'that', 'that', 'the', 'the', 'the', 'the', 'the', 'their', 'their', 'their', 'they', 'they', 'they', 'they', 'time', 'to', 'to', 'to', 'to', 'to', 'to', 'to', 'to', 'tool', 'transformed', 'understand,', 'unimaginable.', 'us', 'us', 'use', 'use', 'variety', 'vast', 'viruses', 'vulnerable', 'way', 'way', 'ways', 'ways.', 'we', 'we', 'were', 'were', 'with', 'work,', 'work.', 'world', 'would']\n"
     ]
    }
   ],
   "source": [
    "def sorting(filename):\n",
    "    infile = open(filename)\n",
    "    words = []\n",
    "    for line in infile:\n",
    "        temp = line.split()\n",
    "        print(temp)\n",
    "        for i in temp:\n",
    "            words.append(i)\n",
    "    infile.close()\n",
    "    words.sort()\n",
    "    print(\"----------After sorting---------------\")\n",
    "    print(words)\n",
    "    outfile = open(\"result9.txt\", \"w\")\n",
    "    for i in words:\n",
    "        outfile.writelines(i)\n",
    "        outfile.writelines(\" \")\n",
    "    outfile.close()\n",
    "sorting(\"sample.txt\")\n",
    "#writelines() method writes the items of a list to the file."
   ]
  },
  {
   "cell_type": "markdown",
   "metadata": {},
   "source": [
    "7 . Develop a program to backing Up a given Folder (Folder in a current working directory) into a ZIP File by\n"
   ]
  },
  {
   "cell_type": "code",
   "execution_count": null,
   "metadata": {},
   "outputs": [],
   "source": [
    "import os\n",
    "import zipfile\n",
    "# set the source directory path\n",
    "source_dir = r\"C:\\Users\\Ashwath\\Desktop\\Darshan\"\n",
    "# initialize the zip file with a name\n",
    "zip_name = \"backup.zip\"\n",
    "backup_zip = zipfile.ZipFile(zip_name, 'w')\n",
    "# traverse through all files and folders in the source directory\n",
    "for foldername, subfolders, filenames in os.walk(source_dir):\n",
    " # add each file or directory to the zip file\n",
    " for filename in filenames:\n",
    " backup_zip.write(os.path.join(foldername, filename))\n",
    " # close the zip file\n",
    "backup_zip.close()\n",
    "print(\"Backup successful!\")\n",
    "#Note: Make sure to replace the \"folder_name\" with your desired folder path"
   ]
  },
  {
   "cell_type": "markdown",
   "metadata": {},
   "source": [
    "9a) Define a function which takes TWO objects representing complex numbers and returns new complex\n",
    "number with a addition of two complex numbers. Define a suitable class ‘Complex’ to represent the complex\n",
    "number.\n"
   ]
  },
  {
   "cell_type": "code",
   "execution_count": 5,
   "metadata": {},
   "outputs": [
    {
     "name": "stdout",
     "output_type": "stream",
     "text": [
      "Complex number 1 : 4 + i 2\n",
      "Complex number 2 : 8 + i 5\n",
      "Sum of complex number : 12 + i 7\n"
     ]
    }
   ],
   "source": [
    "class Complex:\n",
    " \n",
    "    def __init__(self, tempReal, tempImaginary): \n",
    "        self.real = tempReal\n",
    "        self.imaginary = tempImaginary\n",
    " \n",
    "    def addComp(self, C1, C2):\n",
    "        temp=Complex(0, 0)\n",
    "        temp.real = C1.real + C2.real\n",
    "        temp.imaginary = C1.imaginary + C2.imaginary\n",
    "        return temp\n",
    "C1 = Complex(4, 2) \n",
    "print(\"Complex number 1 :\", C1.real, \"+ i\" , C1.imaginary)\n",
    " \n",
    "C2 = Complex(8, 5)\n",
    "print(\"Complex number 2 :\", C2.real, \"+ i\" , C2.imaginary)\n",
    " \n",
    "C3 = Complex(0, 0)\n",
    "C3 = C3.addComp(C1, C2)\n",
    "print(\"Sum of complex number :\", C3.real, \"+ i\", C3.imaginary)"
   ]
  },
  {
   "cell_type": "markdown",
   "metadata": {},
   "source": [
    "9b) Develop a program to read N (N >=2) complex numbers and to compute the addition of N complex\n",
    "numbers."
   ]
  },
  {
   "cell_type": "code",
   "execution_count": 7,
   "metadata": {},
   "outputs": [
    {
     "name": "stdout",
     "output_type": "stream",
     "text": [
      "The sum of the complex numbers is: (9+12j)\n"
     ]
    }
   ],
   "source": [
    "import math\n",
    "N = int(input(\"Enter the number of complex numbers to add (N >= 2): \"))\n",
    "sum = 0 + 0j\n",
    "for i in range(N):\n",
    "    real = float(input(f\"Enter the real part of complex number {i+1}: \"))\n",
    "    imag = float(input(f\"Enter the imaginary part of complex number {i+1}: \"))\n",
    "    sum += complex(real, imag)\n",
    "print(\"The sum of the complex numbers is:\", sum)"
   ]
  },
  {
   "cell_type": "markdown",
   "metadata": {},
   "source": [
    "10. Develop a program that uses class Student which prompts the user to enter marks in three subjects and\n",
    "calculates total marks, percentage and displays the score card details. [Hint: Use list to store the marks\n",
    "in three subjects and total marks. Use init() method to initialize name, USN and the lists to store marks\n",
    "and total, Use getMarks() method to read marks into the list, and display() method to display the score\n",
    "card details.]\n"
   ]
  },
  {
   "cell_type": "code",
   "execution_count": 8,
   "metadata": {},
   "outputs": [
    {
     "name": "stdout",
     "output_type": "stream",
     "text": [
      "Name: abd\n",
      "USN: 123\n",
      "Marks: [50, 60, 70]\n",
      "Total: 180\n",
      "Percentage: 60.0\n"
     ]
    }
   ],
   "source": [
    "class Student:\n",
    "    def __init__(self, name, usn):\n",
    "        self.name = name\n",
    "        self.usn = usn\n",
    "        self.marks = []\n",
    "        self.total = 0\n",
    " \n",
    "    def getMarks(self):\n",
    "        for i in range(3):\n",
    "            #mark = int(input(\"Enter mark in subject {}: \".format(i+1)))\n",
    "            mark = int(input(\"Enter mark in subject %d: \"%(i+1)))\n",
    "            self.marks.append(mark)\n",
    "            self.total += mark\n",
    " \n",
    "    def display(self):\n",
    "        print(\"Name:\", self.name)\n",
    "        print(\"USN:\", self.usn)\n",
    "        print(\"Marks:\", self.marks)\n",
    "        print(\"Total:\", self.total)\n",
    "        print(\"Percentage:\", self.total/3)\n",
    " \n",
    "name = input(\"Enter name of the student: \")\n",
    "usn = input(\"Enter USN of the student: \")\n",
    "s = Student(name, usn)\n",
    "s.getMarks()\n",
    "s.display()"
   ]
  },
  {
   "cell_type": "code",
   "execution_count": 9,
   "metadata": {},
   "outputs": [
    {
     "name": "stdout",
     "output_type": "stream",
     "text": [
      "\n",
      "--- Score Card ---\n",
      "Name: abc\n",
      "USN: 123\n",
      "Marks: [150, 120, 130]\n",
      "Total marks: 400\n",
      "Percentage: 133.33%\n"
     ]
    }
   ],
   "source": [
    "class Student:\n",
    "    def __init__(self, name, usn):\n",
    "        self.name = name\n",
    "        self.usn = usn\n",
    "        self.marks = []\n",
    "        self.total = 0\n",
    "    def getMarks(self):\n",
    "        for i in range(3):\n",
    "            marks = int(input(f\"Enter marks for subject {i+1}: \"))\n",
    "            self.marks.append(marks)\n",
    "            self.total += marks\n",
    "    def display(self):\n",
    "        print(\"\\n--- Score Card ---\")\n",
    "        print(f\"Name: {self.name}\")\n",
    "        print(f\"USN: {self.usn}\")\n",
    "        print(f\"Marks: {self.marks}\")\n",
    "        print(f\"Total marks: {self.total}\")\n",
    "        print(f\"Percentage: {round((self.total/300)*100,2)}%\")\n",
    "\n",
    "name = input(\"Enter student name: \")\n",
    "usn = input(\"Enter student USN: \")\n",
    "student = Student(name, usn)\n",
    "student.getMarks()\n",
    "student.display()"
   ]
  },
  {
   "cell_type": "markdown",
   "metadata": {},
   "source": [
    "8)Write a function named DivExp which takes TWO parameters a, b and returns a value c (c=a/b). Write\n",
    "suitable assertion for a>0 in function DivExp and raise an exception for when b=0. Develop a suitable\n",
    "program which reads two values from the console and calls a function DivExp."
   ]
  },
  {
   "cell_type": "code",
   "execution_count": 10,
   "metadata": {},
   "outputs": [
    {
     "name": "stdout",
     "output_type": "stream",
     "text": [
      "-23 8\n",
      "Assertion failure:Number a is negative.\n",
      "None\n"
     ]
    }
   ],
   "source": [
    "def DivExp(a,b):\n",
    "    try:\n",
    "        assert a>0,\"Number a is negative.\"\n",
    "        if b==0:\n",
    "            raise ZeroDivisionError(\"Zero Division Error\")\n",
    "        c = a/b\n",
    "        return c\n",
    "    except ZeroDivisionError as x:\n",
    "        print(x)\n",
    "    except AssertionError as x:\n",
    "        print(\"Assertion failure:\"+str(x))\n",
    "\n",
    "x = int(input(\"enter first number: \"))\n",
    "y = int(input(\"enter second number\"))\n",
    "print(x,y)\n",
    "print(DivExp(x,y))"
   ]
  },
  {
   "cell_type": "markdown",
   "metadata": {},
   "source": [
    "______________________"
   ]
  },
  {
   "cell_type": "markdown",
   "metadata": {},
   "source": []
  }
 ],
 "metadata": {
  "kernelspec": {
   "display_name": "Python 3",
   "language": "python",
   "name": "python3"
  },
  "language_info": {
   "codemirror_mode": {
    "name": "ipython",
    "version": 3
   },
   "file_extension": ".py",
   "mimetype": "text/x-python",
   "name": "python",
   "nbconvert_exporter": "python",
   "pygments_lexer": "ipython3",
   "version": "3.11.1"
  },
  "orig_nbformat": 4
 },
 "nbformat": 4,
 "nbformat_minor": 2
}
